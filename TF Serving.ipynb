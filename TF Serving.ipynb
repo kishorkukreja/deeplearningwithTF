{
 "cells": [
  {
   "cell_type": "code",
   "execution_count": 1,
   "metadata": {
    "collapsed": true
   },
   "outputs": [],
   "source": [
    "from __future__ import absolute_import\n",
    "from __future__ import division\n",
    "from __future__ import print_function"
   ]
  },
  {
   "cell_type": "code",
   "execution_count": 2,
   "metadata": {
    "collapsed": true
   },
   "outputs": [],
   "source": [
    "import collections\n",
    "import numpy as np\n",
    "import pandas as pd"
   ]
  },
  {
   "cell_type": "code",
   "execution_count": 3,
   "metadata": {
    "collapsed": true
   },
   "outputs": [],
   "source": [
    "from IPython.display import Image\n",
    "import tensorflow as tf"
   ]
  },
  {
   "cell_type": "code",
   "execution_count": 4,
   "metadata": {
    "collapsed": true
   },
   "outputs": [],
   "source": [
    "import os\n",
    "import urllib"
   ]
  },
  {
   "cell_type": "code",
   "execution_count": 5,
   "metadata": {
    "collapsed": true
   },
   "outputs": [],
   "source": [
    "IRIS_TEST_URL = \"http://download.tensorflow.org/data/iris_test.csv\"\n",
    "IRIS_TRAINING_URL = \"http://download.tensorflow.org/data/iris_training.csv\""
   ]
  },
  {
   "cell_type": "code",
   "execution_count": 6,
   "metadata": {
    "collapsed": true
   },
   "outputs": [],
   "source": [
    "IRIS_TRAINING = \"./data/iris_training.csv\"\n",
    "IRIS_TEST = \"./data/iris_test.csv\"\n",
    "\n",
    "INPUT_TENSOR_NAME = 'inputs'\n",
    "\n",
    "model_path = \"./model\"\n",
    "model_path_serving = \"./model_serving\""
   ]
  },
  {
   "cell_type": "markdown",
   "metadata": {},
   "source": [
    "### Estimator Defintion DNN"
   ]
  },
  {
   "cell_type": "code",
   "execution_count": 8,
   "metadata": {
    "collapsed": false
   },
   "outputs": [],
   "source": [
    "def estimator(model_path):\n",
    "    feature_columns = [tf.feature_column.numeric_column(INPUT_TENSOR_NAME, shape=[4])]\n",
    "    return tf.estimator.DNNClassifier(feature_columns=feature_columns,\n",
    "                                      hidden_units=[10, 20, 30],\n",
    "                                      n_classes=3,\n",
    "                                      model_dir=model_path\n",
    "                                    )"
   ]
  },
  {
   "cell_type": "markdown",
   "metadata": {},
   "source": [
    "### Define Input for test and Train"
   ]
  },
  {
   "cell_type": "code",
   "execution_count": 11,
   "metadata": {
    "collapsed": true
   },
   "outputs": [],
   "source": [
    "def train_input_fn():\n",
    "    training_set = tf.contrib.learn.datasets.base.load_csv_with_header(\n",
    "        filename=IRIS_TRAINING,\n",
    "        target_dtype=np.int,\n",
    "        features_dtype=np.float32)\n",
    "\n",
    "    return tf.estimator.inputs.numpy_input_fn(\n",
    "        x={INPUT_TENSOR_NAME: np.array(training_set.data)},\n",
    "        y=np.array(training_set.target),\n",
    "        num_epochs=None,\n",
    "        shuffle=True)()\n",
    "def test_input_fn():\n",
    "    testing_set = tf.contrib.learn.datasets.base.load_csv_with_header(\n",
    "        filename=IRIS_TEST,\n",
    "        target_dtype=np.int,\n",
    "        features_dtype=np.float32)\n",
    "\n",
    "    return tf.estimator.inputs.numpy_input_fn(\n",
    "        x={INPUT_TENSOR_NAME: np.array(testing_set.data)},\n",
    "        y=np.array(testing_set.target),\n",
    "        num_epochs=1,\n",
    "        shuffle=False)()"
   ]
  },
  {
   "cell_type": "code",
   "execution_count": 13,
   "metadata": {
    "collapsed": false
   },
   "outputs": [],
   "source": [
    "def serving_input_receiver_fn():\n",
    "    feature_spec = {INPUT_TENSOR_NAME: tf.FixedLenFeature(dtype=tf.float32, shape=[4])}\n",
    "    return tf.estimator.export.build_parsing_serving_input_receiver_fn(feature_spec)()"
   ]
  },
  {
   "cell_type": "code",
   "execution_count": 14,
   "metadata": {
    "collapsed": false
   },
   "outputs": [
    {
     "name": "stdout",
     "output_type": "stream",
     "text": [
      "INFO:tensorflow:Using default config.\n",
      "INFO:tensorflow:Using config: {'_save_checkpoints_secs': 600, '_keep_checkpoint_max': 5, '_log_step_count_steps': 100, '_save_summary_steps': 100, '_model_dir': './model', '_tf_random_seed': 1, '_keep_checkpoint_every_n_hours': 10000, '_save_checkpoints_steps': None, '_session_config': None}\n",
      "INFO:tensorflow:Create CheckpointSaverHook.\n",
      "INFO:tensorflow:Saving checkpoints for 1 into ./model\\model.ckpt.\n",
      "INFO:tensorflow:loss = 299.317, step = 1\n",
      "INFO:tensorflow:global_step/sec: 265.982\n",
      "INFO:tensorflow:loss = 11.1377, step = 101 (0.380 sec)\n",
      "INFO:tensorflow:global_step/sec: 308.642\n",
      "INFO:tensorflow:loss = 16.4644, step = 201 (0.276 sec)\n",
      "INFO:tensorflow:global_step/sec: 333.332\n",
      "INFO:tensorflow:loss = 12.4134, step = 301 (0.376 sec)\n",
      "INFO:tensorflow:global_step/sec: 274.725\n",
      "INFO:tensorflow:loss = 6.02933, step = 401 (0.336 sec)\n",
      "INFO:tensorflow:global_step/sec: 316.456\n",
      "INFO:tensorflow:loss = 1.82696, step = 501 (0.316 sec)\n",
      "INFO:tensorflow:global_step/sec: 294.117\n",
      "INFO:tensorflow:loss = 6.26127, step = 601 (0.360 sec)\n",
      "INFO:tensorflow:global_step/sec: 396.824\n",
      "INFO:tensorflow:loss = 7.02216, step = 701 (0.308 sec)\n",
      "INFO:tensorflow:global_step/sec: 324.675\n",
      "INFO:tensorflow:loss = 11.6265, step = 801 (0.224 sec)\n",
      "INFO:tensorflow:global_step/sec: 403.224\n",
      "INFO:tensorflow:loss = 10.8542, step = 901 (0.252 sec)\n",
      "INFO:tensorflow:global_step/sec: 308.643\n",
      "INFO:tensorflow:loss = 13.1929, step = 1001 (0.328 sec)\n",
      "INFO:tensorflow:global_step/sec: 320.513\n",
      "INFO:tensorflow:loss = 8.91893, step = 1101 (0.308 sec)\n",
      "INFO:tensorflow:global_step/sec: 328.947\n",
      "INFO:tensorflow:loss = 3.4484, step = 1201 (0.304 sec)\n",
      "INFO:tensorflow:global_step/sec: 337.838\n",
      "INFO:tensorflow:loss = 7.13672, step = 1301 (0.296 sec)\n",
      "INFO:tensorflow:global_step/sec: 316.455\n",
      "INFO:tensorflow:loss = 5.16825, step = 1401 (0.316 sec)\n",
      "INFO:tensorflow:global_step/sec: 320.513\n",
      "INFO:tensorflow:loss = 5.20461, step = 1501 (0.520 sec)\n",
      "INFO:tensorflow:global_step/sec: 182.482\n",
      "INFO:tensorflow:loss = 5.19542, step = 1601 (0.336 sec)\n",
      "INFO:tensorflow:global_step/sec: 320.513\n",
      "INFO:tensorflow:loss = 4.59322, step = 1701 (0.328 sec)\n",
      "INFO:tensorflow:global_step/sec: 277.777\n",
      "INFO:tensorflow:loss = 3.16041, step = 1801 (0.352 sec)\n",
      "INFO:tensorflow:global_step/sec: 328.947\n",
      "INFO:tensorflow:loss = 4.71417, step = 1901 (0.304 sec)\n",
      "INFO:tensorflow:Saving checkpoints for 2000 into ./model\\model.ckpt.\n",
      "INFO:tensorflow:Loss for final step: 2.05849.\n",
      "INFO:tensorflow:Starting evaluation at 2017-11-04-14:36:14\n",
      "INFO:tensorflow:Restoring parameters from ./model\\model.ckpt-2000\n",
      "INFO:tensorflow:Finished evaluation at 2017-11-04-14:36:16\n",
      "INFO:tensorflow:Saving dict for global step 2000: accuracy = 0.966667, average_loss = 0.0513393, global_step = 2000, loss = 1.54018\n",
      "\n",
      "Test Accuracy: 0.966667\n",
      "\n"
     ]
    }
   ],
   "source": [
    "classifier = estimator(model_path)\n",
    "\n",
    "# Train model using the train input function, for 2000 steps\n",
    "classifier.train(input_fn=train_input_fn, steps=2000)\n",
    "\n",
    "# Evaluate accuracy of the trained model using the test input pipeline\n",
    "accuracy_score = classifier.evaluate(input_fn=test_input_fn)[\"accuracy\"]\n",
    "print(\"\\nTest Accuracy: {0:f}\\n\".format(accuracy_score))"
   ]
  },
  {
   "cell_type": "markdown",
   "metadata": {},
   "source": [
    "## Export Trained Model"
   ]
  },
  {
   "cell_type": "code",
   "execution_count": null,
   "metadata": {
    "collapsed": false
   },
   "outputs": [
    {
     "name": "stdout",
     "output_type": "stream",
     "text": [
      "INFO:tensorflow:Restoring parameters from ./model\\model.ckpt-2000\n"
     ]
    }
   ],
   "source": [
    "save_path = classifier.export_savedmodel(model_path_serving, serving_input_receiver_fn)"
   ]
  },
  {
   "cell_type": "code",
   "execution_count": null,
   "metadata": {
    "collapsed": true
   },
   "outputs": [],
   "source": [
    "# Create methods that would maintain the session using the model path as an id\n",
    "sess_dict = {}\n",
    "def get_session(model_id):\n",
    "    global sess_dict\n",
    "    config = tf.ConfigProto(allow_soft_placement=True)\n",
    "    sess_dict[model_id] = tf.Session(config=config)\n",
    "    return sess_dict[model_id]\n",
    "\n",
    "def load_tf_model(model_path):\n",
    "    sess = get_session(model_path)\n",
    "    tf.saved_model.loader.load(sess, [tf.saved_model.tag_constants.SERVING], model_path)\n",
    "    return sess"
   ]
  },
  {
   "cell_type": "code",
   "execution_count": null,
   "metadata": {
    "collapsed": true
   },
   "outputs": [],
   "source": [
    "sess = load_tf_model(save_path)"
   ]
  },
  {
   "cell_type": "code",
   "execution_count": null,
   "metadata": {
    "collapsed": true
   },
   "outputs": [],
   "source": [
    "# Use the restored graph's get_operations() method to know all the names of the ops available in the current graph\n",
    "for op in tf.get_default_graph().get_operations():\n",
    "    print (str(op.name))"
   ]
  },
  {
   "cell_type": "code",
   "execution_count": null,
   "metadata": {
    "collapsed": true
   },
   "outputs": [],
   "source": [
    "input_x_holder = sess.graph.get_operation_by_name(\"input_example_tensor\").outputs[0]\n",
    "predictions_holder = sess.graph.get_operation_by_name(\"dnn/head/predictions/probabilities\").outputs[0]"
   ]
  },
  {
   "cell_type": "code",
   "execution_count": null,
   "metadata": {
    "collapsed": true
   },
   "outputs": [],
   "source": [
    "# Predict on a new set of inputs [6.7, 2.5, 5.8, 1.8] which belongs to class 2\n",
    "float_features = tf.train.Feature(float_list=tf.train.FloatList(value=[6.7, 2.5, 5.8, 1.8]))\n",
    "feature_dict = {\"inputs\": float_features}\n",
    "example = tf.train.Example(features=tf.train.Features(feature=feature_dict))\n",
    "serialized = example.SerializeToString()\n",
    "score = sess.run([predictions_holder], {input_x_holder: [serialized]})"
   ]
  },
  {
   "cell_type": "code",
   "execution_count": null,
   "metadata": {
    "collapsed": true
   },
   "outputs": [],
   "source": [
    "print([\"%.4f\" % score[0][0][idx] for idx in range(len(score[0][0]))])"
   ]
  },
  {
   "cell_type": "code",
   "execution_count": null,
   "metadata": {
    "collapsed": true
   },
   "outputs": [],
   "source": [
    "# Let us print the index of the largest score \n",
    "print(np.argmax(score))"
   ]
  }
 ],
 "metadata": {
  "anaconda-cloud": {},
  "kernelspec": {
   "display_name": "Python [conda root]",
   "language": "python",
   "name": "conda-root-py"
  },
  "language_info": {
   "codemirror_mode": {
    "name": "ipython",
    "version": 3
   },
   "file_extension": ".py",
   "mimetype": "text/x-python",
   "name": "python",
   "nbconvert_exporter": "python",
   "pygments_lexer": "ipython3",
   "version": "3.5.2"
  }
 },
 "nbformat": 4,
 "nbformat_minor": 2
}
